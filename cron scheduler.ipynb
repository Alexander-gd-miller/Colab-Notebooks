{
 "cells": [
  {
   "cell_type": "code",
   "execution_count": null,
   "id": "44b38cd3-da7e-4699-90c9-0c42d56bc447",
   "metadata": {},
   "outputs": [],
   "source": [
    "# Cron scheduler"
   ]
  }
 ],
 "metadata": {
  "kernelspec": {
   "display_name": "Python 3 (ipykernel)",
   "language": "python",
   "name": "python3"
  },
  "language_info": {
   "codemirror_mode": {
    "name": "ipython",
    "version": 3
   },
   "file_extension": ".py",
   "mimetype": "text/x-python",
   "name": "python",
   "nbconvert_exporter": "python",
   "pygments_lexer": "ipython3",
   "version": "3.8.16"
  }
 },
 "nbformat": 4,
 "nbformat_minor": 5
}
